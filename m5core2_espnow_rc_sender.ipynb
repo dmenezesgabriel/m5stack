{
 "cells": [
  {
   "cell_type": "code",
   "execution_count": 2,
   "id": "1ea2100d-d161-4e8e-9b0b-f7545d4d6c09",
   "metadata": {},
   "outputs": [
    {
     "name": "stdout",
     "output_type": "stream",
     "text": [
      "\u001b[34mConnecting to --port=COM7 --baud=115200 \u001b[0m\n",
      "\u001b[34mReady.\n",
      "\u001b[0m"
     ]
    }
   ],
   "source": [
    "%serialconnect --port=COM7"
   ]
  },
  {
   "cell_type": "code",
   "execution_count": 3,
   "id": "5f62ece5-a7e8-4c64-916b-a677760eea19",
   "metadata": {},
   "outputs": [],
   "source": [
    "import json\n",
    "import time\n",
    "\n",
    "import unit\n",
    "from libs.m5_espnow import M5ESPNOW\n",
    "from m5stack_ui import *\n",
    "from uiflow import *\n",
    "\n",
    "from m5stack import *"
   ]
  },
  {
   "cell_type": "code",
   "execution_count": 4,
   "id": "b5a0b4ec-ae72-4817-beee-19c2b7c9915d",
   "metadata": {},
   "outputs": [],
   "source": [
    "# print(dir(unit))"
   ]
  },
  {
   "cell_type": "code",
   "execution_count": 5,
   "id": "4d4d7c59-de46-4c82-95af-f2bfecc10967",
   "metadata": {},
   "outputs": [],
   "source": [
    "# import m5stack_ui\n",
    "# print(dir(m5stack_ui))"
   ]
  },
  {
   "cell_type": "code",
   "execution_count": 6,
   "id": "a54bb229-4f8d-4524-9eb6-ae461b7f4410",
   "metadata": {},
   "outputs": [],
   "source": [
    "# import m5stack\n",
    "# print(dir(m5stack))"
   ]
  },
  {
   "cell_type": "code",
   "execution_count": 7,
   "id": "829087fc-cbe4-401b-8079-a62a7572b6f2",
   "metadata": {},
   "outputs": [],
   "source": [
    "joystick_0 = unit.get(unit.JOYSTICK, unit.PORTA)\n",
    "\n",
    "dual_button_0 = unit.get(unit.DUAL_BUTTON, unit.PORTC)"
   ]
  },
  {
   "cell_type": "code",
   "execution_count": 8,
   "id": "eb348d14-ac92-4fea-a54f-162f3b59adc0",
   "metadata": {},
   "outputs": [],
   "source": [
    "flag_callback = None\n",
    "replica_mac = None\n",
    "replica_data = None\n",
    "run = None\n",
    "cnt_succes = None\n",
    "count_send = None\n",
    "peer_mac = None\n",
    "replica_ssid = None\n",
    "btn_red_active = False\n",
    "btn_blue_active = False"
   ]
  },
  {
   "cell_type": "code",
   "execution_count": 9,
   "id": "3bd16fff-3125-40c0-8134-387c0a07a61c",
   "metadata": {},
   "outputs": [],
   "source": [
    "now = M5ESPNOW(1)"
   ]
  },
  {
   "cell_type": "code",
   "execution_count": 10,
   "id": "7222c92e-8396-48a8-9915-96bc3ce36441",
   "metadata": {},
   "outputs": [],
   "source": [
    "screen = M5Screen()\n",
    "screen.clean_screen()\n",
    "screen.set_screen_bg_color(0xFFFFFF)\n",
    "\n",
    "replica_mac_title = M5Label(\n",
    "    \"REPLICA MAC:\", x=1, y=14, font=FONT_MONT_14, parent=None\n",
    ")\n",
    "replica_mac_value = M5Label(\n",
    "    \"replica_mac\", x=0, y=28, font=FONT_MONT_14, parent=None\n",
    ")\n",
    "\n",
    "replica_ssid_title = M5Label(\n",
    "    \"REPLICA SSID:\", x=0, y=42, font=FONT_MONT_14, parent=None\n",
    ")\n",
    "replica_ssid_value = M5Label(\n",
    "    \"replica_ssid\", x=0, y=56, font=FONT_MONT_14, parent=None\n",
    ")\n",
    "\n",
    "replica_send_count_title = M5Label(\n",
    "    \"SEND COUNT:\", x=0, y=70, font=FONT_MONT_14, parent=None\n",
    ")\n",
    "replica_send_count_value = M5Label(\n",
    "    \"replica_send_count\", x=0, y=84, font=FONT_MONT_14, parent=None\n",
    ")\n",
    "\n",
    "replica_received_count_title = M5Label(\n",
    "    \"REVC COUNT:\", x=0, y=98, font=FONT_MONT_14, parent=None\n",
    ")\n",
    "replica_received_count_value = M5Label(\n",
    "    \"replica_received_count\", x=0, y=112, font=FONT_MONT_14, parent=None\n",
    ")\n",
    "\n",
    "replica_success_count_title = M5Label(\n",
    "    \"SUCCESS COUNT:\", x=0, y=126, font=FONT_MONT_14, parent=None\n",
    ")\n",
    "replica_success_count_value = M5Label(\n",
    "    \"replica_success_count\", x=0, y=140, font=FONT_MONT_14, parent=None\n",
    ")"
   ]
  },
  {
   "cell_type": "code",
   "execution_count": 12,
   "id": "def6950e-0ca0-47a7-b690-d5548006e850",
   "metadata": {},
   "outputs": [],
   "source": [
    "def send_callback(flag):\n",
    "    global flag_callback, replica_mac, replica_data, run, cnt_succes, count_send, peer_mac, replica_ssid\n",
    "    flag_callback = flag\n",
    "    if flag_callback:\n",
    "        cnt_succes = cnt_succes + 1\n",
    "        replica_success_count_value.set_text(str(cnt_succes))\n",
    "\n",
    "    pass\n",
    "\n",
    "\n",
    "def recv_callback(dummy):\n",
    "    global flag_callback, replica_mac, replica_data, run, cnt_succes, count_send, peer_mac, replica_ssid\n",
    "    replica_mac, replica_data = now.espnow_recv_str()\n",
    "    replica_received_count_value.set_text(str(replica_data))\n",
    "\n",
    "    pass\n",
    "\n",
    "\n",
    "def buttonA_wasPressed():\n",
    "    global flag_callback, replica_mac, replica_data, run, cnt_succes, count_send, peer_mac, replica_ssid\n",
    "    run = 1\n",
    "    pass\n",
    "\n",
    "\n",
    "def buttonC_wasPressed():\n",
    "    global flag_callback, replica_mac, replica_data, run, cnt_succes, count_send, peer_mac, replica_ssid\n",
    "    run = 0\n",
    "    pass\n",
    "\n",
    "\n",
    "def btnRed0_wasPressed():\n",
    "    global btn_red_active\n",
    "    btn_red_active = True\n",
    "    pass\n",
    "\n",
    "\n",
    "def btnRed0_wasReleased():\n",
    "    global btn_red_active\n",
    "    btn_red_active = False\n",
    "    pass\n",
    "\n",
    "\n",
    "def btnBlue0_wasPressed():\n",
    "    global btn_blue_active\n",
    "    btn_blue_active = True\n",
    "    pass\n",
    "\n",
    "\n",
    "def btnBlue0_wasReleased():\n",
    "    global btn_blue_active\n",
    "    btn_blue_active = False\n",
    "    pass"
   ]
  },
  {
   "cell_type": "code",
   "execution_count": 13,
   "id": "bb946224-6628-4853-ba9a-356f4821b246",
   "metadata": {},
   "outputs": [],
   "source": [
    "now.espnow_send_cb(send_callback)\n",
    "now.espnow_recv_cb(recv_callback)\n",
    "\n",
    "btnA.wasPressed(buttonA_wasPressed)\n",
    "btnC.wasPressed(buttonC_wasPressed)\n",
    "\n",
    "dual_button_0.btnRed.wasPressed(btnRed0_wasPressed)\n",
    "dual_button_0.btnRed.wasReleased(btnRed0_wasReleased)\n",
    "\n",
    "dual_button_0.btnBlue.wasPressed(btnBlue0_wasPressed)\n",
    "dual_button_0.btnBlue.wasReleased(btnBlue0_wasReleased)"
   ]
  },
  {
   "cell_type": "code",
   "execution_count": 14,
   "id": "2a53a23e-8c81-4611-a08b-bd6390773f30",
   "metadata": {},
   "outputs": [],
   "source": [
    "count_send = 0\n",
    "cnt_succes = 0\n",
    "flag_callback = 0\n",
    "run = 0\n",
    "replica_ssid = \"M5_Replica\""
   ]
  },
  {
   "cell_type": "code",
   "execution_count": 15,
   "id": "e362c7f3-66ce-4728-8007-b9156d0c0269",
   "metadata": {},
   "outputs": [],
   "source": [
    "while peer_mac == None:\n",
    "    peer_mac = now.espnow_scan(1, replica_ssid)\n",
    "replica_ssid_value.set_text(str(replica_ssid))\n",
    "replica_mac_value.set_text(str(peer_mac))\n",
    "now.espnow_add_peer(peer_mac, 1, 0, False)"
   ]
  },
  {
   "cell_type": "code",
   "execution_count": 16,
   "id": "d7196a66-c2c4-4b97-9f9b-e5a2aa2b8611",
   "metadata": {},
   "outputs": [
    {
     "name": "stdout",
     "output_type": "stream",
     "text": [
      "e89f6d093199\n"
     ]
    }
   ],
   "source": [
    "print(peer_mac)"
   ]
  },
  {
   "cell_type": "code",
   "execution_count": null,
   "id": "3310e3b7-6ec8-465c-a578-42bb97aca4c2",
   "metadata": {},
   "outputs": [
    {
     "name": "stdout",
     "output_type": "stream",
     "text": [
      "..............................................................................................................................................................................................................................................................................................................................................................................................................................................................................................................."
     ]
    }
   ],
   "source": [
    "# TODO\n",
    "# Bring here the direction logic from receiver and send only the direction as state\n",
    "# ex: forward\n",
    "# send message only if state changed\n",
    "\n",
    "x = None\n",
    "y = None\n",
    "angle = 0\n",
    "while run:\n",
    "\n",
    "    if (\n",
    "        x != joystick_0.X or\n",
    "        y != joystick_0.Y or\n",
    "        angle != 0\n",
    "    ):\n",
    "        x = joystick_0.X\n",
    "        y = joystick_0.Y\n",
    "        # angle = catchUnitSlider.get_value()\n",
    "        message = json.dumps(\n",
    "            {\n",
    "                \"count\": str(count_send),\n",
    "                \"x\": x,\n",
    "                \"y\": y,\n",
    "                \"angle\": 0\n",
    "            }\n",
    "        )\n",
    "        count_send = count_send + 1\n",
    "        now.espnow_send_str(1, message)\n",
    "        replica_send_count_value.set_text(message)        \n",
    "        wait_ms(1)"
   ]
  }
 ],
 "metadata": {
  "kernelspec": {
   "display_name": "MicroPython - USB",
   "language": "micropython",
   "name": "micropython"
  },
  "language_info": {
   "codemirror_mode": "python",
   "file_extension": ".py",
   "mimetype": "text/python",
   "name": "micropython"
  }
 },
 "nbformat": 4,
 "nbformat_minor": 5
}
