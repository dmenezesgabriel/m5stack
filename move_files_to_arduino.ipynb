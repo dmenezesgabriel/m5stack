{
 "cells": [
  {
   "cell_type": "code",
   "execution_count": 2,
   "id": "d6359848-1f2b-4488-bc20-a048a135d479",
   "metadata": {},
   "outputs": [
    {
     "name": "stdout",
     "output_type": "stream",
     "text": [
      "\u001b[34mConnecting to --port=COM7 --baud=115200 \u001b[0m\n",
      "\u001b[34mReady.\n",
      "\u001b[0m"
     ]
    }
   ],
   "source": [
    "#remove_cell\n",
    "%serialconnect --port=COM7"
   ]
  },
  {
   "cell_type": "code",
   "execution_count": 3,
   "id": "6dbecac9-63c1-4dee-9127-ef5a9f009f31",
   "metadata": {},
   "outputs": [],
   "source": [
    "import os"
   ]
  },
  {
   "cell_type": "code",
   "execution_count": 4,
   "id": "38ff038f-806d-4153-b52f-49f3458c9267",
   "metadata": {},
   "outputs": [
    {
     "name": "stdout",
     "output_type": "stream",
     "text": [
      "['Wi-Fi-Config.py', 'apps', 'blocks', 'boot.py', 'emojiImg', 'espnow_rc_sender.py', 'img', 'main.py', 'res', 'temp.py', 'update']\n"
     ]
    }
   ],
   "source": [
    "print(os.listdir())"
   ]
  },
  {
   "cell_type": "code",
   "execution_count": 5,
   "id": "6d1b0f8c-234d-4170-8157-6bf3d5392288",
   "metadata": {},
   "outputs": [
    {
     "name": "stdout",
     "output_type": "stream",
     "text": [
      "['_cloud', 'sdcard', 'vfs', 'gc', '_state', 'FlowMenu', 'flow', 'sys', 'bdev', '_thread', 'os', '__name__', '_deviceCfg', 'power', '_device_mode', 'micropython']\n"
     ]
    }
   ],
   "source": [
    "print(dir())"
   ]
  }
 ],
 "metadata": {
  "kernelspec": {
   "display_name": "MicroPython - USB",
   "language": "micropython",
   "name": "micropython"
  },
  "language_info": {
   "codemirror_mode": "python",
   "file_extension": ".py",
   "mimetype": "text/python",
   "name": "micropython"
  }
 },
 "nbformat": 4,
 "nbformat_minor": 5
}
