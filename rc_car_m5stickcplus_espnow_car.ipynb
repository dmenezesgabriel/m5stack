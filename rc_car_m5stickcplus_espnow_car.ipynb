{
 "cells": [
  {
   "cell_type": "code",
   "execution_count": 1,
   "id": "94ae03bc-7bc2-4758-bf57-9e70b0ce733c",
   "metadata": {},
   "outputs": [
    {
     "name": "stdout",
     "output_type": "stream",
     "text": [
      "\u001b[34mConnecting to --port=COM6 --baud=115200 \u001b[0m\n",
      "\u001b[34mReady.\n",
      "\u001b[0m"
     ]
    }
   ],
   "source": [
    "#remove_cell\n",
    "%serialconnect --port=COM6"
   ]
  },
  {
   "cell_type": "code",
   "execution_count": 34,
   "id": "721d8c74-5233-4b1a-b292-fcef5cf19b1e",
   "metadata": {},
   "outputs": [],
   "source": [
    "import json\n",
    "import time\n",
    "\n",
    "from libs.m5_espnow import M5ESPNOW\n",
    "from m5ui import *\n",
    "from uiflow import *\n",
    "import unit\n",
    "from m5stack import *"
   ]
  },
  {
   "cell_type": "code",
   "execution_count": 35,
   "id": "3c48b5fd-bad2-4c92-9e25-a697b19d9912",
   "metadata": {
    "tags": []
   },
   "outputs": [],
   "source": [
    "pb_unit_connected = False\n",
    "\n",
    "try:\n",
    "    pbhub_0 = unit.get(unit.PBHUB, unit.PORTA)\n",
    "    pb_unit_connected = True\n",
    "except Exception as error:\n",
    "    print(error)\n",
    "    pb_unit_connected = False"
   ]
  },
  {
   "cell_type": "code",
   "execution_count": 36,
   "id": "e55944e1-75ff-46ea-960b-327d4c3cfe97",
   "metadata": {},
   "outputs": [],
   "source": [
    "mac_addr = None\n",
    "data = None\n",
    "onetime = None\n",
    "ssid = None"
   ]
  },
  {
   "cell_type": "code",
   "execution_count": 37,
   "id": "92c9e1a5-2dac-4fcb-92e5-b4ab3f4955d5",
   "metadata": {},
   "outputs": [],
   "source": [
    "now = M5ESPNOW(1)"
   ]
  },
  {
   "cell_type": "code",
   "execution_count": 38,
   "id": "b85041af-4505-4d4e-ac39-9f18d44ac21e",
   "metadata": {},
   "outputs": [],
   "source": [
    "setScreenColor(0x222222)\n",
    "\n",
    "# UI\n",
    "app_title = M5Title(\n",
    "    title=\"ESPNOW-REPLICA\",\n",
    "    x=1,\n",
    "    fgcolor=0xFFFFFF,\n",
    "    bgcolor=0xFF7C00,\n",
    ")\n",
    "\n",
    "mac_address_title = M5TextBox(\n",
    "    1, 28, \"MAC ADDR:\", lcd.FONT_Ubuntu, 0xFFFFFF, rotate=0\n",
    ")\n",
    "mac_address_value = M5TextBox(\n",
    "    1, 42, \"mac_addr_value\", lcd.FONT_Ubuntu, 0xFFFFFF, rotate=0\n",
    ")\n",
    "\n",
    "remote_mac_address_title = M5TextBox(\n",
    "    1, 56, \"REMOTE MAC:\", lcd.FONT_Ubuntu, 0xFFFFFF, rotate=0\n",
    ")\n",
    "remote_mac_address_value = M5TextBox(\n",
    "    0, 70, \"remote_mac\", lcd.FONT_Ubuntu, 0xFFFFFF, rotate=0\n",
    ")\n",
    "\n",
    "ssid_title = M5TextBox(0, 84, \"SSID:\", lcd.FONT_Ubuntu, 0xFFFFFF, rotate=0)\n",
    "ssid_value = M5TextBox(\n",
    "    0, 98, \"ssid_value\", lcd.FONT_Ubuntu, 0xFFFFFF, rotate=0\n",
    ")\n",
    "\n",
    "remote_data_title = M5TextBox(\n",
    "    0, 112, \"REMOTE DATA:\", lcd.FONT_Ubuntu, 0xFFFFFF, rotate=0\n",
    ")\n",
    "remote_data_value = M5TextBox(\n",
    "    0, 126, \"remote_data\", lcd.FONT_Ubuntu, 0xFFFFFF, rotate=0\n",
    ")\n",
    "\n",
    "send_data_title = M5TextBox(\n",
    "    0, 186, \"SEND DATA:\", lcd.FONT_Ubuntu, 0xFFFFFF, rotate=0\n",
    ")\n",
    "send_data_value = M5TextBox(\n",
    "    0, 202, \"send_data\", lcd.FONT_Ubuntu, 0xFFFFFF, rotate=0\n",
    ")\n"
   ]
  },
  {
   "cell_type": "code",
   "execution_count": 39,
   "id": "2b2b2fd6-a5a4-4720-9260-477ce82db09f",
   "metadata": {},
   "outputs": [],
   "source": [
    "current_direction = \"stop\"\n",
    "current_angle = \"closed\""
   ]
  },
  {
   "cell_type": "code",
   "execution_count": 46,
   "id": "65940766-256d-4049-a959-519ece7d96bf",
   "metadata": {
    "tags": []
   },
   "outputs": [],
   "source": [
    "def recv_callback(dummy):\n",
    "    global mac_addr, data, onetime, ssid, current_direction, current_angle\n",
    "    mac_addr, data = now.espnow_recv_str()\n",
    "    remote_mac_address_value.setText(str(mac_addr))\n",
    "    remote_data_value.setText(str(data))\n",
    "    send_data_value.setText(str(data))\n",
    "    if onetime:\n",
    "        now.espnow_add_peer(mac_addr, 1, 1, False)\n",
    "        onetime = 0\n",
    "\n",
    "    now.espnow_send_str(1, data)\n",
    "    received_data_json = json.loads(data)\n",
    "    new_direction = str(received_data_json[\"direction\"])\n",
    "    new_angle = str(received_data_json[\"angle\"])\n",
    "    \n",
    "    if int(received_data_json[\"count\"]) %2 == 0:\n",
    "        M5Led.on()\n",
    "    else:\n",
    "        M5Led.off()\n",
    "    \n",
    "    if (new_direction != current_direction):\n",
    "        current_direction = new_direction\n",
    "        # Move\n",
    "        if (current_direction == \"backward\"):\n",
    "            # forward\n",
    "            pbhub_0.setServoPulse(1, 0, 2000)\n",
    "            pbhub_0.setServoPulse(4, 0, 1000)\n",
    "        elif (current_direction == \"forward\"):\n",
    "            # backward\n",
    "            pbhub_0.setServoPulse(1, 0, 1000)\n",
    "            pbhub_0.setServoPulse(4, 0, 2000)\n",
    "        elif (current_direction == \"right\"):\n",
    "            # Left\n",
    "            pbhub_0.setServoPulse(1, 0, 1800)\n",
    "            pbhub_0.setServoPulse(4, 0, 1800)\n",
    "        elif (current_direction == \"left\"):\n",
    "            # Right\n",
    "            pbhub_0.setServoPulse(1, 0, 1200)\n",
    "            pbhub_0.setServoPulse(4, 0, 1200)\n",
    "        elif (current_direction == \"stop\"):\n",
    "            # Stop\n",
    "            pbhub_0.setServoPulse(1, 0, 1500)\n",
    "            pbhub_0.setServoPulse(4, 0, 1500)\n",
    "    \n",
    "    # Catch\n",
    "    if (current_angle != new_angle):\n",
    "        current_angle = new_angle\n",
    "        if current_angle == \"opened\":\n",
    "            pbhub_0.setServoAngle(2, 0, 45)\n",
    "        else:\n",
    "            pbhub_0.setServoAngle(2, 0, 90)  \n",
    "    pass"
   ]
  },
  {
   "cell_type": "code",
   "execution_count": 47,
   "id": "62a0b215-10d6-4323-95b6-9ab32b21a2f5",
   "metadata": {},
   "outputs": [],
   "source": [
    "now.espnow_recv_cb(recv_callback)"
   ]
  },
  {
   "cell_type": "code",
   "execution_count": 45,
   "id": "4b5314c5-46de-419f-8233-ed6d6cb54bd4",
   "metadata": {},
   "outputs": [],
   "source": [
    "onetime = 1\n",
    "ssid = \"M5_Replica\"\n",
    "now.espnow_set_ap(ssid, \"\")\n",
    "ssid_value.setText(str(ssid))\n",
    "mac_address_value.setText(str(now.espnow_get_mac()))"
   ]
  }
 ],
 "metadata": {
  "kernelspec": {
   "display_name": "MicroPython - USB",
   "language": "micropython",
   "name": "micropython"
  },
  "language_info": {
   "codemirror_mode": "python",
   "file_extension": ".py",
   "mimetype": "text/python",
   "name": "micropython"
  }
 },
 "nbformat": 4,
 "nbformat_minor": 5
}
