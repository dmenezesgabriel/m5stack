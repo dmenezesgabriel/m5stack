{
 "cells": [
  {
   "cell_type": "code",
   "execution_count": 1,
   "id": "f7b3ff80-7626-47a8-8cb5-463c397b029c",
   "metadata": {},
   "outputs": [],
   "source": [
    "import os\n",
    "from utils.nb_conversor import convert_notebook"
   ]
  },
  {
   "cell_type": "code",
   "execution_count": 2,
   "id": "790d68dd-fa85-48d7-8704-bec44a437be4",
   "metadata": {},
   "outputs": [],
   "source": [
    "notebooks = [\n",
    "    {\n",
    "        \"ipynb_path\": \"m5core2_espnow_rc_sender.ipynb\",\n",
    "        \"py_path\": \"scripts/espnow_rc_car/m5core2_espnow_rc_sender.py\"\n",
    "    },\n",
    "    {\n",
    "        \"ipynb_path\": \"m5stickcplus_espnow_rc_receiver.ipynb\",\n",
    "        \"py_path\": \"scripts/espnow_rc_car/m5stickcplus_espnow_rc_receiver.py\"\n",
    "    }\n",
    "]\n",
    "\n",
    "for notebook in notebooks:\n",
    "    convert_notebook(notebook[\"ipynb_path\"], notebook[\"py_path\"])"
   ]
  }
 ],
 "metadata": {
  "kernelspec": {
   "display_name": "Python 3 (ipykernel)",
   "language": "python",
   "name": "python3"
  },
  "language_info": {
   "codemirror_mode": {
    "name": "ipython",
    "version": 3
   },
   "file_extension": ".py",
   "mimetype": "text/x-python",
   "name": "python",
   "nbconvert_exporter": "python",
   "pygments_lexer": "ipython3",
   "version": "3.10.0"
  }
 },
 "nbformat": 4,
 "nbformat_minor": 5
}
