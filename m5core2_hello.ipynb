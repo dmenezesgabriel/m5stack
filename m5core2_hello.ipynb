{
 "cells": [
  {
   "cell_type": "code",
   "execution_count": 3,
   "id": "1ea2100d-d161-4e8e-9b0b-f7545d4d6c09",
   "metadata": {},
   "outputs": [
    {
     "name": "stdout",
     "output_type": "stream",
     "text": [
      "\u001b[34mConnecting to --port=COM7 --baud=115200 \u001b[0m\n",
      "\u001b[34mReady.\n",
      "\u001b[0m"
     ]
    }
   ],
   "source": [
    "%serialconnect --port=COM7"
   ]
  },
  {
   "cell_type": "code",
   "execution_count": 4,
   "id": "5f62ece5-a7e8-4c64-916b-a677760eea19",
   "metadata": {},
   "outputs": [],
   "source": [
    "import json\n",
    "import time\n",
    "\n",
    "import unit\n",
    "from libs.m5_espnow import M5ESPNOW\n",
    "from m5stack_ui import *\n",
    "from uiflow import *\n",
    "\n",
    "from m5stack import *"
   ]
  },
  {
   "cell_type": "code",
   "execution_count": 5,
   "id": "c8a206c9-35e0-4666-a801-5b25252bf550",
   "metadata": {},
   "outputs": [],
   "source": [
    "screen = M5Screen()\n",
    "screen.clean_screen()\n",
    "screen.set_screen_bg_color(0xFFFFFF)"
   ]
  }
 ],
 "metadata": {
  "kernelspec": {
   "display_name": "MicroPython - USB",
   "language": "micropython",
   "name": "micropython"
  },
  "language_info": {
   "codemirror_mode": "python",
   "file_extension": ".py",
   "mimetype": "text/python",
   "name": "micropython"
  }
 },
 "nbformat": 4,
 "nbformat_minor": 5
}
