{
 "cells": [
  {
   "cell_type": "code",
   "execution_count": 1,
   "id": "94ae03bc-7bc2-4758-bf57-9e70b0ce733c",
   "metadata": {},
   "outputs": [
    {
     "name": "stdout",
     "output_type": "stream",
     "text": [
      "\u001b[34mConnecting to --port=COM6 --baud=115200 \u001b[0m\n",
      "\u001b[34mReady.\n",
      "\u001b[0m"
     ]
    }
   ],
   "source": [
    "%serialconnect --port=COM6"
   ]
  },
  {
   "cell_type": "code",
   "execution_count": 8,
   "id": "721d8c74-5233-4b1a-b292-fcef5cf19b1e",
   "metadata": {},
   "outputs": [],
   "source": [
    "import json\n",
    "import time\n",
    "\n",
    "from libs.m5_espnow import M5ESPNOW\n",
    "from m5ui import *\n",
    "from uiflow import *\n",
    "import unit\n",
    "from m5stack import *"
   ]
  },
  {
   "cell_type": "code",
   "execution_count": 6,
   "id": "18394b0b-d979-4523-a5f0-5ee591b4344c",
   "metadata": {},
   "outputs": [],
   "source": [
    "setScreenColor(0x222222)"
   ]
  }
 ],
 "metadata": {
  "kernelspec": {
   "display_name": "MicroPython - USB",
   "language": "micropython",
   "name": "micropython"
  },
  "language_info": {
   "codemirror_mode": "python",
   "file_extension": ".py",
   "mimetype": "text/python",
   "name": "micropython"
  }
 },
 "nbformat": 4,
 "nbformat_minor": 5
}
